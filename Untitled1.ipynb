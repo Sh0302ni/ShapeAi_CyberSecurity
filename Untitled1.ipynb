{
  "nbformat": 4,
  "nbformat_minor": 0,
  "metadata": {
    "colab": {
      "name": "Untitled1.ipynb",
      "provenance": [],
      "authorship_tag": "ABX9TyNIgohk17n3G3feskrPhPNR",
      "include_colab_link": true
    },
    "kernelspec": {
      "name": "python3",
      "display_name": "Python 3"
    },
    "language_info": {
      "name": "python"
    }
  },
  "cells": [
    {
      "cell_type": "markdown",
      "metadata": {
        "id": "view-in-github",
        "colab_type": "text"
      },
      "source": [
        "<a href=\"https://colab.research.google.com/github/Sh0302ni/ShapeAi_CyberSecurity/blob/main/Untitled1.ipynb\" target=\"_parent\"><img src=\"https://colab.research.google.com/assets/colab-badge.svg\" alt=\"Open In Colab\"/></a>"
      ]
    },
    {
      "cell_type": "code",
      "metadata": {
        "colab": {
          "base_uri": "https://localhost:8080/"
        },
        "id": "1UKZU-qY1pJ7",
        "outputId": "7d3b9c26-f252-4be5-c768-aa7cbe04d9b1"
      },
      "source": [
        "import hashlib as hl\n",
        "print(hl.algorithms_available)"
      ],
      "execution_count": 1,
      "outputs": [
        {
          "output_type": "stream",
          "text": [
            "{'md5', 'blake2s', 'sha384', 'blake2b', 'sha224', 'sha3_512', 'shake_128', 'sha512', 'sha3_224', 'sha3_256', 'sha256', 'sha3_384', 'shake_256', 'sha1'}\n"
          ],
          "name": "stdout"
        }
      ]
    },
    {
      "cell_type": "code",
      "metadata": {
        "colab": {
          "base_uri": "https://localhost:8080/"
        },
        "id": "axHQ55Hk17_s",
        "outputId": "839368f3-a50b-487d-e843-8dc3d6ce6980"
      },
      "source": [
        "flag = \"sharvani\"\n",
        "result = hl.md5(flag.encode('utf-8')).hexdigest()\n",
        "print(\"The hashed result is\",result)"
      ],
      "execution_count": 2,
      "outputs": [
        {
          "output_type": "stream",
          "text": [
            "The hashed result is 788017995fc80197c9bc53daf30679b9\n"
          ],
          "name": "stdout"
        }
      ]
    }
  ]
}